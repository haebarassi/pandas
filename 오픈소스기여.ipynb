{
  "nbformat": 4,
  "nbformat_minor": 0,
  "metadata": {
    "colab": {
      "name": "오픈소스기여",
      "provenance": [],
      "collapsed_sections": [],
      "authorship_tag": "ABX9TyP7fdYOwckA6v8BjvKxA8an",
      "include_colab_link": true
    },
    "kernelspec": {
      "name": "python3",
      "display_name": "Python 3"
    },
    "language_info": {
      "name": "python"
    }
  },
  "cells": [
    {
      "cell_type": "markdown",
      "metadata": {
        "id": "view-in-github",
        "colab_type": "text"
      },
      "source": [
        "<a href=\"https://colab.research.google.com/github/haebarassi/pandas/blob/main/%EC%98%A4%ED%94%88%EC%86%8C%EC%8A%A4%EA%B8%B0%EC%97%AC.ipynb\" target=\"_parent\"><img src=\"https://colab.research.google.com/assets/colab-badge.svg\" alt=\"Open In Colab\"/></a>"
      ]
    },
    {
      "cell_type": "markdown",
      "source": [
        "Git/GitHub 기본: https://docs.google.com/presentation/d/1a01PRIkVKNboEVZykPXjibh4-yxoJXkvV1j04iUbd28/edit?usp=sharing\n",
        "- https://www.youtube.com/watch?v=eSO5eoXhuF4\n",
        "- add commit push pull-request"
      ],
      "metadata": {
        "id": "V1tHMcriK7LE"
      }
    },
    {
      "cell_type": "markdown",
      "source": [
        "https://docs.google.com/document/d/1axV55uPJBsoxDgmJr2Sh7xNJipKFCObQXJduIPQow40/edit#heading=h.gcm58r6g0ei5"
      ],
      "metadata": {
        "id": "_IXZkAucWMeO"
      }
    },
    {
      "cell_type": "markdown",
      "source": [
        "- goormide 에서 컨테이너 생성해서 하는 방법도 있음 "
      ],
      "metadata": {
        "id": "WOlQPU78akjq"
      }
    },
    {
      "cell_type": "markdown",
      "source": [
        "## 오픈소스 프로젝트 개발 참여 전략"
      ],
      "metadata": {
        "id": "phAqeOSS50cA"
      }
    },
    {
      "cell_type": "markdown",
      "source": [
        "### 1. 프로젝트 선택"
      ],
      "metadata": {
        "id": "TsEGPceM54vs"
      }
    },
    {
      "cell_type": "markdown",
      "source": [
        "- 소프트웨어 타입\n",
        "  - 예: 솔루션, 서비스 vs 라이브러리, 프레임워크, OS"
      ],
      "metadata": {
        "id": "AOCz-6mR8caV"
      }
    },
    {
      "cell_type": "markdown",
      "source": [
        "- 프로젝트 활성화 정도 (기여자수, issue, PR)\n",
        "  - 오픈 소스의 본질은 협업, review, discussion\n",
        "  - 깃허브 프로젝트 중에서 star가 굉장히 많은 프로젝트라면 무조건적으로 좋은 오픈소스 프로젝트인가? 아니다! 인기가 높은 것은 맞지만, 많은 사람이 참여할 수 있는 오픈소스가 아니라면 생명력이 떨어진 오픈소스라고 할 수 있다. \n",
        "  - linux 프로젝트를 보자. \n",
        "  - 모든 종류의 소프트웨어가 오픈소스에 적합하다고 할 수는 없다. "
      ],
      "metadata": {
        "id": "8dQ2chPi67dy"
      }
    },
    {
      "cell_type": "markdown",
      "source": [
        "- 내가 작업 가능한 언어 (예: c++, c, go, python, ...)"
      ],
      "metadata": {
        "id": "QqJDHchD9CRi"
      }
    },
    {
      "cell_type": "markdown",
      "source": [
        "- 컴파일, 테스트 가능"
      ],
      "metadata": {
        "id": "Zf3dKsUTFtp3"
      }
    },
    {
      "cell_type": "markdown",
      "source": [
        "검색 keyword\n",
        "- ** popular ** opensource project ai\n",
        "- popular opensource project python\n",
        "- popular opensource project backend\n",
        "- ** awesome ** opensource project backend\n",
        "\n",
        "\n"
      ],
      "metadata": {
        "id": "DJ5WHDKeFZIT"
      }
    },
    {
      "cell_type": "markdown",
      "source": [
        "- 나의 흥미, 관심 (front, back, app, ai, ) (언어를 기준으로 선택할 수도 있음)"
      ],
      "metadata": {
        "id": "ZUOMpNn39Sn5"
      }
    },
    {
      "cell_type": "markdown",
      "source": [
        "* 해보고 싶은 프로젝트\n",
        "- numpy\n",
        "- bitcoin\n",
        "- pandas\n"
      ],
      "metadata": {
        "id": "QrUQ4U1bNd-l"
      }
    },
    {
      "cell_type": "markdown",
      "source": [
        "### 2. 프로젝트 파악 (거시적인 파악)"
      ],
      "metadata": {
        "id": "-SjOJjXZ56bx"
      }
    },
    {
      "cell_type": "markdown",
      "source": [
        "### 3. 프로젝트 개발 경향 파악 (미시적인 파악)"
      ],
      "metadata": {
        "id": "3WuUrZXg6BZ-"
      }
    },
    {
      "cell_type": "markdown",
      "source": [
        "- 기존 commit 분석\n",
        "  - commit: 소스를 수정한 단위\n",
        "  - 분석하기 쉬운 커밋 \n",
        "    - fix commit, refactoring commit\n",
        "    - remove 처럼 전후가 뚜렷한 커밋, doc, improve, test, example\n"
      ],
      "metadata": {
        "id": "FBHrTvai6F1O"
      }
    },
    {
      "cell_type": "code",
      "source": [
        "# 일단은 refactoring이나 remove를 먼저 해보자 "
      ],
      "metadata": {
        "id": "dsQsVzrWLB0A"
      },
      "execution_count": null,
      "outputs": []
    },
    {
      "cell_type": "markdown",
      "source": [
        "- 기존 commit (소스파일변화분(diff) + log message(수정이유))\n",
        "  - merge commit은 변화를 위해 존재하는 커밋이므로 소스파일 변화분이 포함되어있지 않은 빈깡통 커밋이다! 머지 커밋은 제외하고 보는 것이 좋다. merge는 참여자보다는 maintainer 입장해서 진행\n",
        "    - -no -merges\n",
        "  - commit message: 수정의 이유를 설명한다.\n",
        "    - 제목\n",
        "      1. 카테고리 명시\n",
        "      2. 첫 단어\n",
        "        * 첫 단어 분석이 무엇보다 핵심이다!!!!\n",
        "        - ex.\n",
        "          - Fix: 잘못된 것을 고친 것\n",
        "          - improve: 원래 잘되던 것을 개선한 것 (10초 -> 5초)\n",
        "          - Add: 없던 기능, 옵션이 추가. (함수, 클래스, 파일 추가 <- 이럴 때 쓰는 경우도 있으나 올바른 사용이라고 보기는 어려움)\n",
        "          - support: 윈도우->flsnrtm, ARM->x86\n",
        "          - Refactor: refactoring은 재배치하면서 추가, 삭제를 진행한다면,\n",
        "          - remove: remove는 legacy한 코드, 옛날엔 쓰이던 모듈이나 라이브러리를 제거할 때 사용\n",
        "          - doc\n",
        "          - test\n",
        "          - example\n",
        "          - support, ...\n",
        "        - update는 최대한 피할 것! 너무 애매모호하기 때문에 \n",
        "      3. 작업 요약설명 한줄\n",
        "    - 본문: why \n",
        "      - 예전에는 어땠으며 어떻게 바뀌었고,\n",
        "      - 어떤 문제상황이 있었는지"
      ],
      "metadata": {
        "id": "zo3pksXj-X0H"
      }
    },
    {
      "cell_type": "code",
      "source": [
        "git log --oneline --no-merges # 먼저, 어떤 커밋이 있는지 보자.\n",
        "\n",
        "# 특정 단어 검색\n",
        "git log --oneline --no-merges |grep improve | less\n",
        "\n",
        "# 커밋 정해서 링크 걸기 \n",
        "\n",
        "# 커밋 정하고 나면 해당 커밋의 PR 함께 보면서 이해하기"
      ],
      "metadata": {
        "id": "Rtc0I0ZhEPD3"
      },
      "execution_count": null,
      "outputs": []
    },
    {
      "cell_type": "markdown",
      "source": [
        "- top-down 방식으로 내가 분석할 수 있는만큼 분석해보기\n",
        "- 어떤 폴더에 들어있는 소스코드인지, 무엇과 관련되어있는지 해석하고 파악하면서 최대한!! 해보기. "
      ],
      "metadata": {
        "id": "miEf16-VF7hb"
      }
    },
    {
      "cell_type": "markdown",
      "source": [
        "\n",
        "- 기존 issue 분석"
      ],
      "metadata": {
        "id": "hLUMO3zU8GWq"
      }
    },
    {
      "cell_type": "markdown",
      "source": [
        "- 기존 pr 분석"
      ],
      "metadata": {
        "id": "I49uhoi18H9d"
      }
    },
    {
      "cell_type": "markdown",
      "source": [
        "### 4. 프로젝트 내 소항목 (서브 파트, 서브 모듈, ...) 선택"
      ],
      "metadata": {
        "id": "kTa6riCv-t4X"
      }
    },
    {
      "cell_type": "markdown",
      "source": [
        "- 일단 먼저 당연히 컴파일, 사용, 테스트 등이 우선시 되어야 할 것이다.\n",
        "- 그리고 나서 무엇에 집중해야할까? 우선 내가 참여하기 쉬운 것부터! 새롭게 생겨난 기능에 대한 설명들이 빠져있는 경우가 굉장히 많다. 이런 부분을 찾아내자.\n",
        "  - 문서(영문서) 추가/개선\n",
        "  - 예제코드 추가/개선\n",
        "  - 테스트코드 추가/개선\n",
        "- 비추천: 오탈자 수정(다음 단계로 레벨업이 되지 않는다), 한글번역, core작업도 비추천 너무 어려움\n",
        "- 무엇을 refactoring 하면 좋은지도 코드를 볼 줄 아는 사람이 찾을 수 있다."
      ],
      "metadata": {
        "id": "wrbysT2V_ISk"
      }
    },
    {
      "cell_type": "markdown",
      "source": [
        "소항목을 선택하지 않는다면\n",
        "- issue 파고드는 것도 가능\n",
        "  - good first issue\n",
        "  - issue 게시판에 새로운 제안, 질문, discussion을 올려두는 것도 가능하다.\n",
        "  - issue에서 답변해볼만한 내용 찾아보기\n",
        "- 초기세팅가이드\n",
        "- build error"
      ],
      "metadata": {
        "id": "g98E0H8CBO-M"
      }
    },
    {
      "cell_type": "markdown",
      "source": [
        "1. 프로젝트 소항목 선택\n",
        "2. 소항목 관련 테스트, 실험, 사용, ...\n",
        "3. 소항목 관련된 문서, 예제코드, 테스트코드\n",
        "4. 소항목 관련 문서, 예제코드, 테스트코드\n",
        "5. 소항목 관련된 issue"
      ],
      "metadata": {
        "id": "wUdFTP2bLIMl"
      }
    },
    {
      "cell_type": "markdown",
      "source": [
        "1. 쉬운 소항목: readme,(build guide) installation, gettingstarted, 초보자 가이드, 튜토리얼, ...\n",
        "2. 문서중에서, 테스트 중에서 선택"
      ],
      "metadata": {
        "id": "LCzRwBeWMcse"
      }
    },
    {
      "cell_type": "code",
      "source": [
        "# 특정 파일 기준으로 커밋 보기\n",
        "git log --oneline --no-merges -- servlet.adoc\n"
      ],
      "metadata": {
        "id": "JxLHs5FjYl9i"
      },
      "execution_count": null,
      "outputs": []
    },
    {
      "cell_type": "markdown",
      "source": [
        "오픈소스 프로젝트 개발 참여:\n",
        "\n",
        "1. 오픈소스 프로젝트 파악/분석\n",
        " - 소개 문서작성 (거시적 파악)\n",
        " - commit, issue, PR 분석/파악\n",
        " - 컴파일, 테스트, 실행 ...\n",
        "\n",
        "2. 기여작업(contribution)\n",
        " - 빌드가이드, REAEME.md, 초보자가이드, 튜토리얼, ...\n",
        " - 소항목 선택 (문서, 테스트, 예제코드)\n",
        " - 선택한 문서,파일 집중 해석/분석\n",
        " - 기여(contribution) 작업할만한 빈틈 찾기\n"
      ],
      "metadata": {
        "id": "qKVopfTbZcED"
      }
    },
    {
      "cell_type": "markdown",
      "source": [
        "*(맨밑에두기) 실제 오픈소스 기여(Contribution) 작업 예시\n",
        "* 프로젝트 초보자용 컨트리뷰션 가이드가 있다면 적극활용해본다\n",
        "* 아래 전략들을 참고하면서 오픈소스 기여작업 거리를 선택하고 진행해본다\n",
        "\n",
        "- 전략 1. issue: 작업하기 적당한 이슈 찾기 (초보자용 issue가 있다면 참고)\n",
        "- 전략 2. build problem: 최신 소스코드 빌드 및 세팅중에 생기는 문제 찾기\n",
        "- 전략 3. question: 프로젝트의 특정기능을 이해하면서 생기는 질문을 issue 글로 남기기\n",
        "- 전략 4. doc: 다양한 기능 테스트하고 메뉴얼 페이지나 문서에 빠져있는 설명 또는 예제를 채워넣기\n",
        "- 전략 4-1. test: 프로젝트 내부 test script, unit test 등 다양한 기능 테스트 살펴보고 새로운것 추가\n",
        "- 전략 4-2.  example: 프로젝트를 활용한 다양한 example 을 실행해보고 추가 example 넣기\n",
        "- 전략 5. suggestion: 프로젝트에대한 다양한 제안을 issue 게시글로 남겨본다 \n",
        "- 전략 6. refactoring: 특정 기능테스트후 그 기능에 대한 함수들만 소스리딩하고 리팩토링시도\n",
        "- 전략 7. review: 기존 pull-request 를 분석하면서 생기는 의문이나 질문을 댓글로 남기기\n",
        "- 전략 8. discussion: 다른사람의 issue 에 필요한 답글 남기기\n",
        "- 전략 9. feature: 필요하다고 생각이드는 기능을 개발해본다.\n",
        "\n",
        "- 예시 1. issue: 작업하기 적당한 이슈 찾기 (초보자용 issue가 있다면 참고)\n",
        "https://github.com/tensorflow/tensorflow/contribute\n",
        "\n",
        "\n",
        "- 예시 2. build problem: 최신 소스코드 빌드 및 세팅중에 생기는 문제 찾기\n",
        "https://github.com/tensorflow/tensorflow/issues/33431\n",
        "\n",
        "\n",
        "- 예시 3. question: 프로젝트의 특정기능을 이해하면서 생기는 질문을 issue 글로 남기기\n",
        "https://github.com/facebook/jest/issues/8872\n",
        "\n",
        "- 예시 4. doc: 다양한 기능 테스트하고 메뉴얼 페이지나 문서에 빠져있는 설명 또는 예제를 채워넣기\n",
        "https://github.com/huge-success/sanic/issues/1608\n",
        "\n",
        "\n",
        "- 예시 5. suggestion: 프로젝트에대한 다양한 제안을 issue 게시글로 남겨본다 \n",
        "https://github.com/namhyung/uftrace/issues/821\n",
        "\n",
        "\n",
        "- 예시 6. refactoring: 특정 기능테스트후 그 기능에 대한 함수들만 소스리딩하고 리팩토링시도\n",
        "https://github.com/apache/kafka/pull/5842\n",
        "\n",
        "- 예시 7. review: 기존 pull-request 를 분석하면서 생기는 의문이나 질문을 댓글로 남기기\n",
        "https://github.com/frappe/erpnext/pull/19388#pullrequestreview-305641309\n",
        "\n",
        "- 예시 8. discussion: 다른사람의 issue 에 필요한 답글 남기기\n",
        "https://github.com/zenorocha/clipboard.js/issues/648\n",
        "\n",
        "\n",
        "- 예시 9. feature: 필요하다고 생각이드는 기능을 개발해본다.\n",
        "https://github.com/zeromq/czmq/pull/1685\n",
        "\n",
        "\n",
        "\n",
        "\n",
        "\n"
      ],
      "metadata": {
        "id": "ZcKRme6Fhbjs"
      }
    },
    {
      "cell_type": "markdown",
      "source": [
        "오픈소스 프로젝트 개발 참여:\n",
        "\n",
        "1. 오픈소스 프로젝트 파악 -> 기술스터디\n",
        "2. 오픈소스 프로젝트 개발 경향 (commit, issue, PR)\n",
        "3. 오픈소스 프로젝트 개발환경구축, 실행, 테스트 ...\n",
        "4. 오픈소스 프로젝트 소항목\n",
        "5. 소항목 관련 문서,예제코드,테스트\n",
        "6. 소항목 관련 개선,추가,수정 ... 기여작업(contribution)\n"
      ],
      "metadata": {
        "id": "lxkwfZLC-wjb"
      }
    },
    {
      "cell_type": "markdown",
      "source": [
        "- 모든 오픈소스는 CONTRIBUTING.md 파일을 가진다. 협업 유의사항 나와있음.\n",
        "- pull-request 올릴 때 양식 있는 곳도 있음 !!"
      ],
      "metadata": {
        "id": "YuZCh9pWF-Zt"
      }
    }
  ]
}